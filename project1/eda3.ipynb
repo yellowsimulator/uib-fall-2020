{
 "cells": [
  {
   "cell_type": "code",
   "execution_count": 9,
   "metadata": {},
   "outputs": [],
   "source": [
    "import pandas as pd\n",
    "from sklearn.preprocessing import LabelEncoder, OrdinalEncoder, OneHotEncoder\n",
    "from model_pipeline import ModelingPipeline\n",
    "from sklearn.preprocessing import StandardScaler\n",
    "from metric_names import metrics\n",
    "from model_names import models\n",
    "from sklearn.compose import ColumnTransformer\n",
    "from sklearn.feature_selection import SelectKBest, f_regression"
   ]
  },
  {
   "cell_type": "code",
   "execution_count": 2,
   "metadata": {},
   "outputs": [],
   "source": [
    "df = pd.read_csv('data.csv')\n",
    "#data = get_splitted_data(target, path_to_data, test_size)"
   ]
  },
  {
   "cell_type": "code",
   "execution_count": 3,
   "metadata": {},
   "outputs": [],
   "source": [
    "df = df.assign(\n",
    "    title_leng = df['Tittel'].apply(lambda s: len(s))\n",
    ")\n",
    "#df_new = df.drop('Tittel', axis=1, inplace=False)\n",
    "df_new = df"
   ]
  },
  {
   "cell_type": "code",
   "execution_count": 4,
   "metadata": {},
   "outputs": [],
   "source": [
    "test_size = 0.33\n",
    "target = 'Rangering'\n",
    "input_object = df_new\n",
    "mp = ModelingPipeline()\n",
    "data = mp.get_splitted_data(target, test_size, input_object)"
   ]
  },
  {
   "cell_type": "code",
   "execution_count": 5,
   "metadata": {},
   "outputs": [
    {
     "name": "stderr",
     "output_type": "stream",
     "text": [
      "[Parallel(n_jobs=-1)]: Using backend ThreadingBackend with 12 concurrent workers.\n"
     ]
    },
    {
     "name": "stdout",
     "output_type": "stream",
     "text": [
      "building tree 1 of 20building tree 2 of 20\n",
      "building tree 3 of 20\n",
      "\n",
      "building tree 4 of 20\n",
      "building tree 5 of 20\n",
      "building tree 6 of 20\n",
      "building tree 7 of 20\n",
      "building tree 8 of 20\n",
      "building tree 9 of 20\n",
      "building tree 10 of 20building tree 11 of 20\n",
      "\n",
      "building tree 12 of 20\n",
      "building tree 13 of 20\n",
      "building tree 14 of 20\n",
      "building tree 15 of 20\n",
      "building tree 16 of 20\n"
     ]
    },
    {
     "name": "stderr",
     "output_type": "stream",
     "text": [
      "[Parallel(n_jobs=-1)]: Done   4 out of  20 | elapsed:  6.1min remaining: 24.5min\n"
     ]
    },
    {
     "name": "stdout",
     "output_type": "stream",
     "text": [
      "building tree 17 of 20\n",
      "building tree 18 of 20\n",
      "building tree 19 of 20\n",
      "building tree 20 of 20\n"
     ]
    },
    {
     "name": "stderr",
     "output_type": "stream",
     "text": [
      "[Parallel(n_jobs=-1)]: Done  11 out of  20 | elapsed:  6.5min remaining:  5.3min\n",
      "[Parallel(n_jobs=-1)]: Done  18 out of  20 | elapsed: 10.7min remaining:  1.2min\n",
      "[Parallel(n_jobs=-1)]: Done  20 out of  20 | elapsed: 10.8min finished\n",
      "[Parallel(n_jobs=12)]: Using backend ThreadingBackend with 12 concurrent workers.\n",
      "[Parallel(n_jobs=12)]: Done   4 out of  20 | elapsed:    0.2s remaining:    0.9s\n",
      "[Parallel(n_jobs=12)]: Done  11 out of  20 | elapsed:    0.2s remaining:    0.1s\n",
      "[Parallel(n_jobs=12)]: Done  18 out of  20 | elapsed:    0.4s remaining:    0.0s\n",
      "[Parallel(n_jobs=12)]: Done  20 out of  20 | elapsed:    0.4s finished\n"
     ]
    }
   ],
   "source": [
    "model = models['regression']['ensemble']['RandomForestRegressor'](\n",
    "    n_estimators=20,\n",
    "    verbose=3,\n",
    "    n_jobs=-1\n",
    ")\n",
    "preprocessor = ColumnTransformer(\n",
    "            [\n",
    "                ('encoder', OneHotEncoder(handle_unknown = 'ignore'), data['categorical_columns']),\n",
    "                \n",
    "                ('normilizer', StandardScaler(), data['numerical_columns'])\n",
    "            ]\n",
    ")\n",
    "fitted_model = mp.fit_model(model, preprocessor, data, target)\n",
    "    \n",
    "metric = metrics['regression']['mse']\n",
    "score = mp.test_fitted_model(fitted_model, data, metric)"
   ]
  },
  {
   "cell_type": "code",
   "execution_count": 6,
   "metadata": {},
   "outputs": [
    {
     "data": {
      "text/plain": [
       "1.6708895585551262"
      ]
     },
     "execution_count": 6,
     "metadata": {},
     "output_type": "execute_result"
    }
   ],
   "source": [
    "score"
   ]
  },
  {
   "cell_type": "code",
   "execution_count": 7,
   "metadata": {},
   "outputs": [
    {
     "name": "stderr",
     "output_type": "stream",
     "text": [
      "[Parallel(n_jobs=12)]: Using backend ThreadingBackend with 12 concurrent workers.\n",
      "[Parallel(n_jobs=12)]: Done   4 out of  20 | elapsed:    0.2s remaining:    0.9s\n",
      "[Parallel(n_jobs=12)]: Done  11 out of  20 | elapsed:    0.2s remaining:    0.1s\n",
      "[Parallel(n_jobs=12)]: Done  18 out of  20 | elapsed:    0.4s remaining:    0.0s\n",
      "[Parallel(n_jobs=12)]: Done  20 out of  20 | elapsed:    0.4s finished\n"
     ]
    },
    {
     "data": {
      "text/plain": [
       "0.35281458094691587"
      ]
     },
     "execution_count": 7,
     "metadata": {},
     "output_type": "execute_result"
    }
   ],
   "source": [
    "metric2 = metrics['regression']['r2']\n",
    "score2 = mp.test_fitted_model(fitted_model, data, metric2)\n",
    "score2"
   ]
  },
  {
   "cell_type": "code",
   "execution_count": null,
   "metadata": {},
   "outputs": [],
   "source": []
  }
 ],
 "metadata": {
  "kernelspec": {
   "display_name": "Python 3",
   "language": "python",
   "name": "python3"
  },
  "language_info": {
   "codemirror_mode": {
    "name": "ipython",
    "version": 3
   },
   "file_extension": ".py",
   "mimetype": "text/x-python",
   "name": "python",
   "nbconvert_exporter": "python",
   "pygments_lexer": "ipython3",
   "version": "3.7.4"
  }
 },
 "nbformat": 4,
 "nbformat_minor": 2
}
