{
 "cells": [
  {
   "cell_type": "code",
   "execution_count": 1,
   "metadata": {},
   "outputs": [],
   "source": [
    "from reportlab.pdfgen import canvas\n",
    "c = canvas.Canvas(\"hello.pdf\")\n",
    "c.drawString(100,750,\"Welcome to Reportlab!\")\n",
    "c.save()"
   ]
  },
  {
   "cell_type": "code",
   "execution_count": 2,
   "metadata": {},
   "outputs": [],
   "source": [
    "from reportlab.lib.pagesizes import letter\n",
    "from reportlab.pdfgen import canvas\n",
    "canvas = canvas.Canvas(\"form.pdf\", pagesize=letter)\n",
    "canvas.setLineWidth(.3)\n",
    "canvas.setFont('Helvetica', 12)\n",
    "canvas.drawString(30,750,'OFFICIAL COMMUNIQUE')\n",
    "canvas.drawString(30,735,'OF ACME INDUSTRIES')\n",
    "canvas.drawString(500,750,\"12/12/2010\")\n",
    "canvas.line(480,747,580,747)\n",
    "canvas.drawString(275,725,'AMOUNT OWED:')\n",
    "canvas.drawString(500,725,\"$1,000.00\")\n",
    "canvas.line(378,723,580,723)\n",
    "canvas.drawString(30,703,'RECEIVED BY:')\n",
    "canvas.line(120,700,580,700)\n",
    "canvas.drawString(120,703,\"JOHN DOE\")\n",
    "canvas.save()"
   ]
  },
  {
   "cell_type": "code",
   "execution_count": 4,
   "metadata": {},
   "outputs": [],
   "source": [
    "import time\n",
    "from reportlab.lib.enums import TA_JUSTIFY\n",
    "from reportlab.lib.pagesizes import letter\n",
    "from reportlab.platypus import SimpleDocTemplate, Paragraph, Spacer, Image\n",
    "from reportlab.lib.styles import getSampleStyleSheet, ParagraphStyle\n",
    "from reportlab.lib.units import inch\n",
    "doc = SimpleDocTemplate(\"form_letter.pdf\",pagesize=letter,\n",
    "                        rightMargin=72,leftMargin=72,\n",
    "                        topMargin=72,bottomMargin=18)\n",
    "Story=[]\n",
    "logo = \"python_logo.png\"\n",
    "magName = \"Pythonista\"\n",
    "issueNum = 12\n",
    "subPrice = \"99.00\"\n",
    "limitedDate = \"03/05/2010\"\n",
    "freeGift = \"tin foil hat\"\n",
    "formatted_time = time.ctime()\n",
    "full_name = \"Mike Driscoll\"\n",
    "address_parts = [\"411 State St.\", \"Marshalltown, IA 50158\"]\n",
    "im = Image(logo, 2*inch, 2*inch)\n",
    "Story.append(im)\n",
    "styles=getSampleStyleSheet()\n",
    "styles.add(ParagraphStyle(name='Justify', alignment=TA_JUSTIFY))\n",
    "ptext = '<font size=\"12\">%s</font>' % formatted_time\n",
    "Story.append(Paragraph(ptext, styles[\"Normal\"]))\n",
    "Story.append(Spacer(1, 12))\n",
    "# Create return address\n",
    "ptext = '<font size=\"12\">%s</font>' % full_name\n",
    "Story.append(Paragraph(ptext, styles[\"Normal\"]))       \n",
    "for part in address_parts:\n",
    "    ptext = '<font size=\"12\">%s</font>' % part.strip()\n",
    "    Story.append(Paragraph(ptext, styles[\"Normal\"]))   \n",
    "Story.append(Spacer(1, 12))\n",
    "ptext = '<font size=\"12\">Dear %s:</font>' % full_name.split()[0].strip()\n",
    "Story.append(Paragraph(ptext, styles[\"Normal\"]))\n",
    "Story.append(Spacer(1, 12))\n",
    "ptext = '<font size=\"12\">We would like to welcome you to our subscriber base for %s Magazine! \\\n",
    "        You will receive %s issues at the excellent introductory price of $%s. Please respond by\\\n",
    "        %s to start receiving your subscription and get the following free gift: %s.</font>' % (magName, \n",
    "                                                                                                issueNum,\n",
    "                                                                                                subPrice,\n",
    "                                                                                                limitedDate,\n",
    "                                                                                                freeGift)\n",
    "Story.append(Paragraph(ptext, styles[\"Justify\"]))\n",
    "Story.append(Spacer(1, 12))\n",
    "ptext = '<font size=\"12\">Thank you very much and we look forward to serving you.</font>'\n",
    "Story.append(Paragraph(ptext, styles[\"Justify\"]))\n",
    "Story.append(Spacer(1, 12))\n",
    "ptext = '<font size=\"12\">Sincerely,</font>'\n",
    "Story.append(Paragraph(ptext, styles[\"Normal\"]))\n",
    "Story.append(Spacer(1, 48))\n",
    "ptext = '<font size=\"12\">Ima Sucker</font>'\n",
    "Story.append(Paragraph(ptext, styles[\"Normal\"]))\n",
    "Story.append(Spacer(1, 12))\n",
    "doc.build(Story)"
   ]
  },
  {
   "cell_type": "code",
   "execution_count": null,
   "metadata": {},
   "outputs": [],
   "source": []
  }
 ],
 "metadata": {
  "kernelspec": {
   "display_name": "Python 3",
   "language": "python",
   "name": "python3"
  },
  "language_info": {
   "codemirror_mode": {
    "name": "ipython",
    "version": 3
   },
   "file_extension": ".py",
   "mimetype": "text/x-python",
   "name": "python",
   "nbconvert_exporter": "python",
   "pygments_lexer": "ipython3",
   "version": "3.7.4"
  }
 },
 "nbformat": 4,
 "nbformat_minor": 2
}
