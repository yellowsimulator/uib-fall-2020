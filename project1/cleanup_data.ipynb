{
 "cells": [
  {
   "cell_type": "markdown",
   "metadata": {},
   "source": [
    "# Data clean up system \n",
    "Given the input folder 'raw_data', return the folder 'sample_data' containing csv file obtained from cleaning \n",
    "the raw data in the 'raw_data' folder"
   ]
  },
  {
   "cell_type": "code",
   "execution_count": 1,
   "metadata": {},
   "outputs": [],
   "source": [
    "import pandas as pd\n",
    "import os\n",
    "from itertools import chain\n",
    "import matplotlib.pyplot as plt\n",
    "import warnings\n",
    "warnings.filterwarnings(\"ignore\")"
   ]
  },
  {
   "cell_type": "markdown",
   "metadata": {},
   "source": [
    "## Helper functions to clean raw data"
   ]
  },
  {
   "cell_type": "code",
   "execution_count": 2,
   "metadata": {},
   "outputs": [],
   "source": [
    "def get_cleaned_user_data(input_folder, user_data_file):\n",
    "    \"\"\"\n",
    "    Returns cleaned user data.\n",
    "    Arguments:\n",
    "        input_folder: the input folder name\n",
    "        user_data_file: the input file name for user data\n",
    "    Return:\n",
    "        users: a pandas data frame\n",
    "    \"\"\"\n",
    "    users = pd.read_json(f\"{input_folder}/{user_data_file}\", orient=\"split\")\n",
    "    if users.isnull().sum().sum() != 0:\n",
    "        users.dropna(inplace=True)\n",
    "    return users\n",
    "\n",
    "\n",
    "def get_cleaned_ranking_data(input_folder, ranking_data_file):\n",
    "    \"\"\"\n",
    "    Returns cleaned ranking data.\n",
    "    Arguments:\n",
    "        input_folder: the input folder name\n",
    "        ranking_data_file: the input file name for ranking data\n",
    "    Return:\n",
    "        users: a pandas data frame\n",
    "    \"\"\"\n",
    "    ranking = pd.read_csv(f\"{input_folder}/{ranking_data_file}\", \\\n",
    "                          sep=\"::\",names=[\"BrukerID\",\"FilmID\",\"Rangering\",\"Tidstempel\"])\n",
    "    if ranking.isnull().sum().sum() != 0:\n",
    "        ranking.dropna(inplace=True)\n",
    "    return ranking\n",
    "\n",
    "\n",
    "def get_cleaned_film_data(input_folder, film_data_file):\n",
    "    \"\"\"\n",
    "    Returns cleaned film data user data.\n",
    "    Arguments:\n",
    "        input_folder: the input folder name\n",
    "        film_data_file: the input file name fr film data\n",
    "    Return:\n",
    "        users: a pandas data frame\n",
    "    \"\"\"\n",
    "    df = pd.read_excel(f\"{input_folder}/{film_data_file}\", sheet_name='film', index_col=0)\n",
    "    df.Sjanger = df.Sjanger.apply(lambda s: s.split('|'))\n",
    "    df = df.sort_values(by=['FilmID'], ignore_index=True)\n",
    "    df_id_title = df[['FilmID', 'Tittel']]\n",
    "    \n",
    "    all_genres = list(df.Sjanger)\n",
    "    unique_genres  = sorted(list(set(list(chain(*all_genres)))))\n",
    "    unique_genres_d = dict(map(lambda s: (s,[0 for _ in range(len(df))]),unique_genres))\n",
    "    df_genre = pd.DataFrame(unique_genres_d) \n",
    "    df_genre.insert(loc=0, column=\"FilmID\", value=list(df_id_title.FilmID))\n",
    "    film_id_genre_map = dict( zip( list(df.FilmID), list(df.Sjanger) ))\n",
    "    \n",
    "    for column_name in unique_genres:\n",
    "        df_genre[column_name] = [1 if column_name in film_id_genre_map[ID] else 0 for ID in film_id_genre_map.keys()]\n",
    "    df_genre.drop([\"FilmID\",\"Ukjennt\", \"Children's\"], axis=1, inplace=True)\n",
    "    df_film = pd.concat([df_id_title, df_genre], axis=1)\n",
    "    if df_film.isnull().sum().sum() != 0:\n",
    "        df_film.dropna(inplace=True)\n",
    "    return df_film\n",
    "\n",
    "\n",
    "def save_csv_files(input_folder, output_folder):\n",
    "    \"\"\"\n",
    "    Given an input folder name and an output folder name,\n",
    "    save all cleaned data in a csv format, in the output \n",
    "    folder.\n",
    "    Arguments:\n",
    "        input_folder: the input folder\n",
    "        output_folder: the output folder\n",
    "    Return\n",
    "        None\n",
    "    \"\"\"\n",
    "    assert input_folder == \"raw_data\", \"Input folder name must be 'raw_data'\"\n",
    "    config = {\n",
    "        \"film.xlsx\": {\"function\": get_cleaned_film_data},\n",
    "        \"bruker.json\": {\"function\": get_cleaned_user_data},\n",
    "        \"rangering.dat\": {\"function\":get_cleaned_ranking_data},\n",
    "    }\n",
    "    for file_name in config:\n",
    "        func = config[file_name][\"function\"]\n",
    "        df = func(input_folder, file_name)\n",
    "        df.dropna(inplace=True)\n",
    "        new_name = file_name.split('.')[0]\n",
    "        print(f\"saving {new_name}.csv\")\n",
    "        if not os.path.exists(output_folder):\n",
    "            os.makedirs(output_folder)\n",
    "        df.to_csv(f\"{output_folder}/{new_name}.csv\")"
   ]
  },
  {
   "cell_type": "code",
   "execution_count": 3,
   "metadata": {},
   "outputs": [
    {
     "ename": "AssertionError",
     "evalue": "Input folder name must be 'raw_data'",
     "output_type": "error",
     "traceback": [
      "\u001b[1;31m---------------------------------------------------------------------------\u001b[0m",
      "\u001b[1;31mAssertionError\u001b[0m                            Traceback (most recent call last)",
      "\u001b[1;32m<ipython-input-3-c9a8f14574ca>\u001b[0m in \u001b[0;36m<module>\u001b[1;34m\u001b[0m\n\u001b[1;32m----> 1\u001b[1;33m \u001b[0msave_csv_files\u001b[0m\u001b[1;33m(\u001b[0m\u001b[1;34m\"raw_data1\"\u001b[0m\u001b[1;33m,\u001b[0m \u001b[1;34m\"sample_data1\"\u001b[0m\u001b[1;33m)\u001b[0m\u001b[1;33m\u001b[0m\u001b[1;33m\u001b[0m\u001b[0m\n\u001b[0m",
      "\u001b[1;32m<ipython-input-2-c7de8a23b92c>\u001b[0m in \u001b[0;36msave_csv_files\u001b[1;34m(input_folder, output_folder)\u001b[0m\n\u001b[0;32m     71\u001b[0m         \u001b[1;32mNone\u001b[0m\u001b[1;33m\u001b[0m\u001b[1;33m\u001b[0m\u001b[0m\n\u001b[0;32m     72\u001b[0m     \"\"\"\n\u001b[1;32m---> 73\u001b[1;33m     \u001b[1;32massert\u001b[0m \u001b[0minput_folder\u001b[0m \u001b[1;33m==\u001b[0m \u001b[1;34m\"raw_data\"\u001b[0m\u001b[1;33m,\u001b[0m \u001b[1;34m\"Input folder name must be 'raw_data'\"\u001b[0m\u001b[1;33m\u001b[0m\u001b[1;33m\u001b[0m\u001b[0m\n\u001b[0m\u001b[0;32m     74\u001b[0m     config = {\n\u001b[0;32m     75\u001b[0m         \u001b[1;34m\"film.xlsx\"\u001b[0m\u001b[1;33m:\u001b[0m \u001b[1;33m{\u001b[0m\u001b[1;34m\"function\"\u001b[0m\u001b[1;33m:\u001b[0m \u001b[0mget_cleaned_film_data\u001b[0m\u001b[1;33m}\u001b[0m\u001b[1;33m,\u001b[0m\u001b[1;33m\u001b[0m\u001b[1;33m\u001b[0m\u001b[0m\n",
      "\u001b[1;31mAssertionError\u001b[0m: Input folder name must be 'raw_data'"
     ]
    }
   ],
   "source": [
    "save_csv_files(\"raw_data1\", \"sample_data1\")"
   ]
  },
  {
   "cell_type": "code",
   "execution_count": null,
   "metadata": {},
   "outputs": [],
   "source": []
  },
  {
   "cell_type": "code",
   "execution_count": null,
   "metadata": {},
   "outputs": [],
   "source": [
    "def plot_missing_values(df, name):\n",
    "    mis_values = pd.DataFrame(df.isnull().sum()).apply(lambda x: x/len(df))\n",
    "    plt.bar(mis_values.index, mis_values[0])\n",
    "    plt.ylabel('%')\n",
    "    plt.title(f'Percentage of missing value for {name}')\n",
    "    plt.show()"
   ]
  },
  {
   "cell_type": "code",
   "execution_count": null,
   "metadata": {},
   "outputs": [],
   "source": []
  }
 ],
 "metadata": {
  "kernelspec": {
   "display_name": "Python 3",
   "language": "python",
   "name": "python3"
  },
  "language_info": {
   "codemirror_mode": {
    "name": "ipython",
    "version": 3
   },
   "file_extension": ".py",
   "mimetype": "text/x-python",
   "name": "python",
   "nbconvert_exporter": "python",
   "pygments_lexer": "ipython3",
   "version": "3.7.4"
  }
 },
 "nbformat": 4,
 "nbformat_minor": 2
}
