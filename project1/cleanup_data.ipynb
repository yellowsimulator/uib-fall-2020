{
 "cells": [
  {
   "cell_type": "markdown",
   "metadata": {},
   "source": [
    "# Data clean up system \n",
    "Given the input folder 'raw_data', return the folder 'sample_data' containing csv file obtained from cleaning \n",
    "the raw data in the 'raw_data' folder"
   ]
  },
  {
   "cell_type": "code",
   "execution_count": 1,
   "metadata": {},
   "outputs": [],
   "source": [
    "import pandas as pd\n",
    "import os\n",
    "from glob import glob\n",
    "from itertools import chain\n",
    "import matplotlib.pyplot as plt\n",
    "import warnings\n",
    "warnings.filterwarnings(\"ignore\")"
   ]
  },
  {
   "cell_type": "code",
   "execution_count": null,
   "metadata": {},
   "outputs": [],
   "source": [
    "[1,2] == [2,]"
   ]
  },
  {
   "cell_type": "markdown",
   "metadata": {},
   "source": [
    "## Exploratory data analysis\n",
    "Check the content of the data, check for missing data"
   ]
  },
  {
   "cell_type": "markdown",
   "metadata": {},
   "source": [
    "## Helper functions to clean raw data"
   ]
  },
  {
   "cell_type": "code",
   "execution_count": 7,
   "metadata": {},
   "outputs": [],
   "source": [
    "def get_cleaned_user_data(input_folder, user_data_file):\n",
    "    \"\"\"\n",
    "    Returns cleaned user data.\n",
    "    Arguments:\n",
    "        input_folder: the input folder name\n",
    "        user_data_file: the input file name for user data\n",
    "    Return:\n",
    "        users: a pandas data frame\n",
    "    \"\"\"\n",
    "    users = pd.read_json(f\"{input_folder}/{user_data_file}\", orient=\"split\")\n",
    "    if users.isnull().sum().sum() != 0:\n",
    "        users.dropna(inplace=True)\n",
    "    return users\n",
    "\n",
    "\n",
    "def get_cleaned_ranking_data(input_folder, ranking_data_file):\n",
    "    \"\"\"\n",
    "    Returns cleaned ranking data.\n",
    "    Arguments:\n",
    "        input_folder: the input folder name\n",
    "        ranking_data_file: the input file name for ranking data\n",
    "    Return:\n",
    "        users: a pandas data frame\n",
    "    \"\"\"\n",
    "    ranking = pd.read_csv(f\"{input_folder}/{ranking_data_file}\", \\\n",
    "                          sep=\"::\",names=[\"BrukerID\",\"FilmID\",\"Rangering\",\"Tidstempel\"])\n",
    "    if ranking.isnull().sum().sum() != 0:\n",
    "        ranking.dropna(inplace=True)\n",
    "    return ranking\n",
    "\n",
    "\n",
    "def get_data_files_from(input_folder):\n",
    "    files = glob(f\"{input_folder}/*\")\n",
    "    base_names = list(map(lambda f: os.path.basename(f),files))\n",
    "    data_file = [f for f in base_names if os.path.splitext(f)[1] in ['.json', '.xlsx', '.dat'] ]\n",
    "    return data_file\n",
    "\n",
    "\n",
    "def get_cleaned_film_data(input_folder, film_data_file):\n",
    "    \"\"\"\n",
    "    Returns cleaned film data user data.\n",
    "    Arguments:\n",
    "        input_folder: the input folder name\n",
    "        film_data_file: the input file name fr film data\n",
    "    Return:\n",
    "        users: a pandas data frame\n",
    "    \"\"\"\n",
    "    df = pd.read_excel(f\"{input_folder}/{film_data_file}\", sheet_name='film', index_col=0)\n",
    "    df.Sjanger = df.Sjanger.apply(lambda s: s.split('|'))\n",
    "    df = df.sort_values(by=['FilmID'], ignore_index=True)\n",
    "    df_id_title = df[['FilmID', 'Tittel']]\n",
    "    \n",
    "    all_genres = list(df.Sjanger)\n",
    "    unique_genres  = sorted(list(set(list(chain(*all_genres)))))\n",
    "    unique_genres_d = dict(map(lambda s: (s,[0 for _ in range(len(df))]),unique_genres))\n",
    "    df_genre = pd.DataFrame(unique_genres_d) \n",
    "    df_genre.insert(loc=0, column=\"FilmID\", value=list(df_id_title.FilmID))\n",
    "    film_id_genre_map = dict( zip( list(df.FilmID), list(df.Sjanger) ))\n",
    "    \n",
    "    for column_name in unique_genres:\n",
    "        df_genre[column_name] = [1 if column_name in film_id_genre_map[ID] else 0 for ID in film_id_genre_map.keys()]\n",
    "    df_genre.drop([\"FilmID\",\"Ukjennt\", \"Children's\"], axis=1, inplace=True)\n",
    "    df_film = pd.concat([df_id_title, df_genre], axis=1)\n",
    "    if df_film.isnull().sum().sum() != 0:\n",
    "        df_film.dropna(inplace=True)\n",
    "    return df_film\n",
    "\n",
    "\n",
    "def save_csv_files(input_folder, output_folder):\n",
    "    \"\"\"\n",
    "    Given an input folder name and an output folder name,\n",
    "    save all cleaned data in a csv format, in the output \n",
    "    folder.\n",
    "    Arguments:\n",
    "        input_folder: the input folder\n",
    "        output_folder: the output folder\n",
    "    Return\n",
    "        None\n",
    "    \"\"\"\n",
    "    assert input_folder == \"raw_data\", \"Input folder name must be 'raw_data'\"\n",
    "    config = {\n",
    "        \"film.xlsx\": {\"function\": get_cleaned_film_data},\n",
    "        \"bruker.json\": {\"function\": get_cleaned_user_data},\n",
    "        \"rangering.dat\": {\"function\":get_cleaned_ranking_data},\n",
    "    }\n",
    "    data_files = get_data_files_from(input_folder)\n",
    "    error_message = f\"{input_folder} must contain: 'film.xlsx', 'bruker.json', 'rangering.dat'\"\n",
    "    assert sorted(data_files) == sorted(list(config.keys())), error_message\n",
    "    \n",
    "    for file_name in config:\n",
    "        func = config[file_name][\"function\"]\n",
    "        df = func(input_folder, file_name)\n",
    "        new_name = file_name.split('.')[0]\n",
    "        print(f\"saving {new_name}.csv\")\n",
    "        if not os.path.exists(output_folder):\n",
    "            os.makedirs(output_folder)\n",
    "        df.to_csv(f\"{output_folder}/{new_name}.csv\")"
   ]
  },
  {
   "cell_type": "code",
   "execution_count": 8,
   "metadata": {},
   "outputs": [
    {
     "name": "stdout",
     "output_type": "stream",
     "text": [
      "['bruker.json', 'film.xlsx', 'rangering.dat']\n",
      "--------------\n",
      "['film.xlsx', 'bruker.json', 'rangering.dat']\n",
      "saving film.csv\n",
      "saving bruker.csv\n",
      "saving rangering.csv\n"
     ]
    }
   ],
   "source": [
    "save_csv_files(\"raw_data\", \"sample_data1\")"
   ]
  },
  {
   "cell_type": "code",
   "execution_count": null,
   "metadata": {},
   "outputs": [],
   "source": []
  },
  {
   "cell_type": "code",
   "execution_count": null,
   "metadata": {},
   "outputs": [],
   "source": [
    "def plot_missing_values(df, name):\n",
    "    mis_values = pd.DataFrame(df.isnull().sum()).apply(lambda x: x/len(df))\n",
    "    plt.bar(mis_values.index, mis_values[0])\n",
    "    plt.ylabel('%')\n",
    "    plt.title(f'Percentage of missing value for {name}')\n",
    "    plt.show()"
   ]
  },
  {
   "cell_type": "code",
   "execution_count": null,
   "metadata": {},
   "outputs": [],
   "source": []
  }
 ],
 "metadata": {
  "kernelspec": {
   "display_name": "Python 3",
   "language": "python",
   "name": "python3"
  },
  "language_info": {
   "codemirror_mode": {
    "name": "ipython",
    "version": 3
   },
   "file_extension": ".py",
   "mimetype": "text/x-python",
   "name": "python",
   "nbconvert_exporter": "python",
   "pygments_lexer": "ipython3",
   "version": "3.7.4"
  }
 },
 "nbformat": 4,
 "nbformat_minor": 2
}
